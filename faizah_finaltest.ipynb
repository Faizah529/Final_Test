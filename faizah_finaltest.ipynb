{
  "nbformat": 4,
  "nbformat_minor": 0,
  "metadata": {
    "colab": {
      "name": "faizah_finaltest.ipynb",
      "provenance": [],
      "collapsed_sections": []
    },
    "kernelspec": {
      "name": "python3",
      "display_name": "Python 3"
    }
  },
  "cells": [
    {
      "cell_type": "markdown",
      "metadata": {
        "id": "4zQUwCjRgXhk",
        "colab_type": "text"
      },
      "source": [
        "# 1. Tuliskan script untuk import pandas library dan library untuk klasifikasi menggunakan Decision Tree"
      ]
    },
    {
      "cell_type": "code",
      "metadata": {
        "id": "Werrj1CMgJAN",
        "colab_type": "code",
        "colab": {}
      },
      "source": [
        "# import library pandas\n",
        "import pandas as pd\n",
        "\n",
        "#import library for classification using decision tree\n",
        "from sklearn.tree import DecisionTreeClassifier"
      ],
      "execution_count": 0,
      "outputs": []
    },
    {
      "cell_type": "markdown",
      "metadata": {
        "id": "O2qtlHnDhJWE",
        "colab_type": "text"
      },
      "source": [
        "# 2. Sebutkan setidaknya 2 library untuk fungsi visualisasi di python."
      ]
    },
    {
      "cell_type": "code",
      "metadata": {
        "id": "6tEymPONhNdf",
        "colab_type": "code",
        "colab": {}
      },
      "source": [
        "# import matplotlib\n",
        "# import seaborn\n",
        "import matplotlib.pyplot as plt\n",
        "import seaborn as sns"
      ],
      "execution_count": 0,
      "outputs": []
    },
    {
      "cell_type": "markdown",
      "metadata": {
        "id": "n4JwM7EUhld1",
        "colab_type": "text"
      },
      "source": [
        "# 3. Import loan_data.csv.<br> Identifikasi tipe data dari masing-masing variable.<br> Tampilkan 5 baris pertama dan tampilkan informasi summary statistics-nya.<br>"
      ]
    },
    {
      "cell_type": "markdown",
      "metadata": {
        "id": "KyU2LG4Zh95Q",
        "colab_type": "text"
      },
      "source": [
        "## Load dataset"
      ]
    },
    {
      "cell_type": "markdown",
      "metadata": {
        "id": "RgZVR7E2iCPC",
        "colab_type": "text"
      },
      "source": [
        "### Mount Google Drive"
      ]
    },
    {
      "cell_type": "code",
      "metadata": {
        "id": "HjyjXGkShv9u",
        "colab_type": "code",
        "colab": {
          "base_uri": "https://localhost:8080/",
          "height": 125
        },
        "outputId": "55ddb953-cdbe-4f5b-fccd-bea61e9b6472"
      },
      "source": [
        "from google.colab import drive\n",
        "drive.mount('/content/gdrive')"
      ],
      "execution_count": 3,
      "outputs": [
        {
          "output_type": "stream",
          "text": [
            "Go to this URL in a browser: https://accounts.google.com/o/oauth2/auth?client_id=947318989803-6bn6qk8qdgf4n4g3pfee6491hc0brc4i.apps.googleusercontent.com&redirect_uri=urn%3Aietf%3Awg%3Aoauth%3A2.0%3Aoob&scope=email%20https%3A%2F%2Fwww.googleapis.com%2Fauth%2Fdocs.test%20https%3A%2F%2Fwww.googleapis.com%2Fauth%2Fdrive%20https%3A%2F%2Fwww.googleapis.com%2Fauth%2Fdrive.photos.readonly%20https%3A%2F%2Fwww.googleapis.com%2Fauth%2Fpeopleapi.readonly&response_type=code\n",
            "\n",
            "Enter your authorization code:\n",
            "··········\n",
            "Mounted at /content/gdrive\n"
          ],
          "name": "stdout"
        }
      ]
    },
    {
      "cell_type": "markdown",
      "metadata": {
        "id": "z4v9tgdBiW5s",
        "colab_type": "text"
      },
      "source": [
        "### Load dataset from google drive"
      ]
    },
    {
      "cell_type": "code",
      "metadata": {
        "id": "yzuWSwrmiPDs",
        "colab_type": "code",
        "colab": {}
      },
      "source": [
        "data = pd.read_csv('/content/gdrive/My Drive/loan_data.csv')"
      ],
      "execution_count": 0,
      "outputs": []
    },
    {
      "cell_type": "markdown",
      "metadata": {
        "id": "p283JpqUicOe",
        "colab_type": "text"
      },
      "source": [
        "## Show the first 5 rows"
      ]
    },
    {
      "cell_type": "code",
      "metadata": {
        "id": "Ut_K-474ihMu",
        "colab_type": "code",
        "colab": {
          "base_uri": "https://localhost:8080/",
          "height": 217
        },
        "outputId": "6c48a83e-e864-4751-c95d-396f3e29dc5d"
      },
      "source": [
        "data.head()"
      ],
      "execution_count": 5,
      "outputs": [
        {
          "output_type": "execute_result",
          "data": {
            "text/html": [
              "<div>\n",
              "<style scoped>\n",
              "    .dataframe tbody tr th:only-of-type {\n",
              "        vertical-align: middle;\n",
              "    }\n",
              "\n",
              "    .dataframe tbody tr th {\n",
              "        vertical-align: top;\n",
              "    }\n",
              "\n",
              "    .dataframe thead th {\n",
              "        text-align: right;\n",
              "    }\n",
              "</style>\n",
              "<table border=\"1\" class=\"dataframe\">\n",
              "  <thead>\n",
              "    <tr style=\"text-align: right;\">\n",
              "      <th></th>\n",
              "      <th>credit.policy</th>\n",
              "      <th>purpose</th>\n",
              "      <th>int.rate</th>\n",
              "      <th>installment</th>\n",
              "      <th>log.annual.inc</th>\n",
              "      <th>dti</th>\n",
              "      <th>fico</th>\n",
              "      <th>days.with.cr.line</th>\n",
              "      <th>revol.bal</th>\n",
              "      <th>revol.util</th>\n",
              "      <th>inq.last.6mths</th>\n",
              "      <th>delinq.2yrs</th>\n",
              "      <th>pub.rec</th>\n",
              "      <th>not.fully.paid</th>\n",
              "    </tr>\n",
              "  </thead>\n",
              "  <tbody>\n",
              "    <tr>\n",
              "      <th>0</th>\n",
              "      <td>1</td>\n",
              "      <td>debt_consolidation</td>\n",
              "      <td>0.1189</td>\n",
              "      <td>829.10</td>\n",
              "      <td>11.350407</td>\n",
              "      <td>19.48</td>\n",
              "      <td>737</td>\n",
              "      <td>5639.958333</td>\n",
              "      <td>28854</td>\n",
              "      <td>52.1</td>\n",
              "      <td>0</td>\n",
              "      <td>0</td>\n",
              "      <td>0</td>\n",
              "      <td>0</td>\n",
              "    </tr>\n",
              "    <tr>\n",
              "      <th>1</th>\n",
              "      <td>1</td>\n",
              "      <td>credit_card</td>\n",
              "      <td>0.1071</td>\n",
              "      <td>228.22</td>\n",
              "      <td>11.082143</td>\n",
              "      <td>14.29</td>\n",
              "      <td>707</td>\n",
              "      <td>2760.000000</td>\n",
              "      <td>33623</td>\n",
              "      <td>76.7</td>\n",
              "      <td>0</td>\n",
              "      <td>0</td>\n",
              "      <td>0</td>\n",
              "      <td>0</td>\n",
              "    </tr>\n",
              "    <tr>\n",
              "      <th>2</th>\n",
              "      <td>1</td>\n",
              "      <td>debt_consolidation</td>\n",
              "      <td>0.1357</td>\n",
              "      <td>366.86</td>\n",
              "      <td>10.373491</td>\n",
              "      <td>11.63</td>\n",
              "      <td>682</td>\n",
              "      <td>4710.000000</td>\n",
              "      <td>3511</td>\n",
              "      <td>25.6</td>\n",
              "      <td>1</td>\n",
              "      <td>0</td>\n",
              "      <td>0</td>\n",
              "      <td>0</td>\n",
              "    </tr>\n",
              "    <tr>\n",
              "      <th>3</th>\n",
              "      <td>1</td>\n",
              "      <td>debt_consolidation</td>\n",
              "      <td>0.1008</td>\n",
              "      <td>162.34</td>\n",
              "      <td>11.350407</td>\n",
              "      <td>8.10</td>\n",
              "      <td>712</td>\n",
              "      <td>2699.958333</td>\n",
              "      <td>33667</td>\n",
              "      <td>73.2</td>\n",
              "      <td>1</td>\n",
              "      <td>0</td>\n",
              "      <td>0</td>\n",
              "      <td>0</td>\n",
              "    </tr>\n",
              "    <tr>\n",
              "      <th>4</th>\n",
              "      <td>1</td>\n",
              "      <td>credit_card</td>\n",
              "      <td>0.1426</td>\n",
              "      <td>102.92</td>\n",
              "      <td>11.299732</td>\n",
              "      <td>14.97</td>\n",
              "      <td>667</td>\n",
              "      <td>4066.000000</td>\n",
              "      <td>4740</td>\n",
              "      <td>39.5</td>\n",
              "      <td>0</td>\n",
              "      <td>1</td>\n",
              "      <td>0</td>\n",
              "      <td>0</td>\n",
              "    </tr>\n",
              "  </tbody>\n",
              "</table>\n",
              "</div>"
            ],
            "text/plain": [
              "   credit.policy             purpose  ...  pub.rec  not.fully.paid\n",
              "0              1  debt_consolidation  ...        0               0\n",
              "1              1         credit_card  ...        0               0\n",
              "2              1  debt_consolidation  ...        0               0\n",
              "3              1  debt_consolidation  ...        0               0\n",
              "4              1         credit_card  ...        0               0\n",
              "\n",
              "[5 rows x 14 columns]"
            ]
          },
          "metadata": {
            "tags": []
          },
          "execution_count": 5
        }
      ]
    },
    {
      "cell_type": "markdown",
      "metadata": {
        "id": "F0c0auH3i4VG",
        "colab_type": "text"
      },
      "source": [
        "## Type of variable in dataset"
      ]
    },
    {
      "cell_type": "code",
      "metadata": {
        "id": "sY5Fda1gi8C4",
        "colab_type": "code",
        "colab": {
          "base_uri": "https://localhost:8080/",
          "height": 354
        },
        "outputId": "4512daf2-2c3e-464d-c616-3d8eb1d90fab"
      },
      "source": [
        "data.info()"
      ],
      "execution_count": 6,
      "outputs": [
        {
          "output_type": "stream",
          "text": [
            "<class 'pandas.core.frame.DataFrame'>\n",
            "RangeIndex: 9578 entries, 0 to 9577\n",
            "Data columns (total 14 columns):\n",
            "credit.policy        9578 non-null int64\n",
            "purpose              9578 non-null object\n",
            "int.rate             9578 non-null float64\n",
            "installment          9578 non-null float64\n",
            "log.annual.inc       9578 non-null float64\n",
            "dti                  9578 non-null float64\n",
            "fico                 9578 non-null int64\n",
            "days.with.cr.line    9578 non-null float64\n",
            "revol.bal            9578 non-null int64\n",
            "revol.util           9578 non-null float64\n",
            "inq.last.6mths       9578 non-null int64\n",
            "delinq.2yrs          9578 non-null int64\n",
            "pub.rec              9578 non-null int64\n",
            "not.fully.paid       9578 non-null int64\n",
            "dtypes: float64(6), int64(7), object(1)\n",
            "memory usage: 1.0+ MB\n"
          ],
          "name": "stdout"
        }
      ]
    },
    {
      "cell_type": "markdown",
      "metadata": {
        "id": "36AcZ_Sziygw",
        "colab_type": "text"
      },
      "source": [
        "## Summary statistics of data"
      ]
    },
    {
      "cell_type": "code",
      "metadata": {
        "id": "oMz3yKakjIID",
        "colab_type": "code",
        "colab": {
          "base_uri": "https://localhost:8080/",
          "height": 307
        },
        "outputId": "b3829d5f-91dd-43fe-8cf0-d556c4895a68"
      },
      "source": [
        "data.describe()"
      ],
      "execution_count": 7,
      "outputs": [
        {
          "output_type": "execute_result",
          "data": {
            "text/html": [
              "<div>\n",
              "<style scoped>\n",
              "    .dataframe tbody tr th:only-of-type {\n",
              "        vertical-align: middle;\n",
              "    }\n",
              "\n",
              "    .dataframe tbody tr th {\n",
              "        vertical-align: top;\n",
              "    }\n",
              "\n",
              "    .dataframe thead th {\n",
              "        text-align: right;\n",
              "    }\n",
              "</style>\n",
              "<table border=\"1\" class=\"dataframe\">\n",
              "  <thead>\n",
              "    <tr style=\"text-align: right;\">\n",
              "      <th></th>\n",
              "      <th>credit.policy</th>\n",
              "      <th>int.rate</th>\n",
              "      <th>installment</th>\n",
              "      <th>log.annual.inc</th>\n",
              "      <th>dti</th>\n",
              "      <th>fico</th>\n",
              "      <th>days.with.cr.line</th>\n",
              "      <th>revol.bal</th>\n",
              "      <th>revol.util</th>\n",
              "      <th>inq.last.6mths</th>\n",
              "      <th>delinq.2yrs</th>\n",
              "      <th>pub.rec</th>\n",
              "      <th>not.fully.paid</th>\n",
              "    </tr>\n",
              "  </thead>\n",
              "  <tbody>\n",
              "    <tr>\n",
              "      <th>count</th>\n",
              "      <td>9578.000000</td>\n",
              "      <td>9578.000000</td>\n",
              "      <td>9578.000000</td>\n",
              "      <td>9578.000000</td>\n",
              "      <td>9578.000000</td>\n",
              "      <td>9578.000000</td>\n",
              "      <td>9578.000000</td>\n",
              "      <td>9.578000e+03</td>\n",
              "      <td>9578.000000</td>\n",
              "      <td>9578.000000</td>\n",
              "      <td>9578.000000</td>\n",
              "      <td>9578.000000</td>\n",
              "      <td>9578.000000</td>\n",
              "    </tr>\n",
              "    <tr>\n",
              "      <th>mean</th>\n",
              "      <td>0.804970</td>\n",
              "      <td>0.122640</td>\n",
              "      <td>319.089413</td>\n",
              "      <td>10.932117</td>\n",
              "      <td>12.606679</td>\n",
              "      <td>710.846314</td>\n",
              "      <td>4560.767197</td>\n",
              "      <td>1.691396e+04</td>\n",
              "      <td>46.799236</td>\n",
              "      <td>1.577469</td>\n",
              "      <td>0.163708</td>\n",
              "      <td>0.062122</td>\n",
              "      <td>0.160054</td>\n",
              "    </tr>\n",
              "    <tr>\n",
              "      <th>std</th>\n",
              "      <td>0.396245</td>\n",
              "      <td>0.026847</td>\n",
              "      <td>207.071301</td>\n",
              "      <td>0.614813</td>\n",
              "      <td>6.883970</td>\n",
              "      <td>37.970537</td>\n",
              "      <td>2496.930377</td>\n",
              "      <td>3.375619e+04</td>\n",
              "      <td>29.014417</td>\n",
              "      <td>2.200245</td>\n",
              "      <td>0.546215</td>\n",
              "      <td>0.262126</td>\n",
              "      <td>0.366676</td>\n",
              "    </tr>\n",
              "    <tr>\n",
              "      <th>min</th>\n",
              "      <td>0.000000</td>\n",
              "      <td>0.060000</td>\n",
              "      <td>15.670000</td>\n",
              "      <td>7.547502</td>\n",
              "      <td>0.000000</td>\n",
              "      <td>612.000000</td>\n",
              "      <td>178.958333</td>\n",
              "      <td>0.000000e+00</td>\n",
              "      <td>0.000000</td>\n",
              "      <td>0.000000</td>\n",
              "      <td>0.000000</td>\n",
              "      <td>0.000000</td>\n",
              "      <td>0.000000</td>\n",
              "    </tr>\n",
              "    <tr>\n",
              "      <th>25%</th>\n",
              "      <td>1.000000</td>\n",
              "      <td>0.103900</td>\n",
              "      <td>163.770000</td>\n",
              "      <td>10.558414</td>\n",
              "      <td>7.212500</td>\n",
              "      <td>682.000000</td>\n",
              "      <td>2820.000000</td>\n",
              "      <td>3.187000e+03</td>\n",
              "      <td>22.600000</td>\n",
              "      <td>0.000000</td>\n",
              "      <td>0.000000</td>\n",
              "      <td>0.000000</td>\n",
              "      <td>0.000000</td>\n",
              "    </tr>\n",
              "    <tr>\n",
              "      <th>50%</th>\n",
              "      <td>1.000000</td>\n",
              "      <td>0.122100</td>\n",
              "      <td>268.950000</td>\n",
              "      <td>10.928884</td>\n",
              "      <td>12.665000</td>\n",
              "      <td>707.000000</td>\n",
              "      <td>4139.958333</td>\n",
              "      <td>8.596000e+03</td>\n",
              "      <td>46.300000</td>\n",
              "      <td>1.000000</td>\n",
              "      <td>0.000000</td>\n",
              "      <td>0.000000</td>\n",
              "      <td>0.000000</td>\n",
              "    </tr>\n",
              "    <tr>\n",
              "      <th>75%</th>\n",
              "      <td>1.000000</td>\n",
              "      <td>0.140700</td>\n",
              "      <td>432.762500</td>\n",
              "      <td>11.291293</td>\n",
              "      <td>17.950000</td>\n",
              "      <td>737.000000</td>\n",
              "      <td>5730.000000</td>\n",
              "      <td>1.824950e+04</td>\n",
              "      <td>70.900000</td>\n",
              "      <td>2.000000</td>\n",
              "      <td>0.000000</td>\n",
              "      <td>0.000000</td>\n",
              "      <td>0.000000</td>\n",
              "    </tr>\n",
              "    <tr>\n",
              "      <th>max</th>\n",
              "      <td>1.000000</td>\n",
              "      <td>0.216400</td>\n",
              "      <td>940.140000</td>\n",
              "      <td>14.528354</td>\n",
              "      <td>29.960000</td>\n",
              "      <td>827.000000</td>\n",
              "      <td>17639.958330</td>\n",
              "      <td>1.207359e+06</td>\n",
              "      <td>119.000000</td>\n",
              "      <td>33.000000</td>\n",
              "      <td>13.000000</td>\n",
              "      <td>5.000000</td>\n",
              "      <td>1.000000</td>\n",
              "    </tr>\n",
              "  </tbody>\n",
              "</table>\n",
              "</div>"
            ],
            "text/plain": [
              "       credit.policy     int.rate  ...      pub.rec  not.fully.paid\n",
              "count    9578.000000  9578.000000  ...  9578.000000     9578.000000\n",
              "mean        0.804970     0.122640  ...     0.062122        0.160054\n",
              "std         0.396245     0.026847  ...     0.262126        0.366676\n",
              "min         0.000000     0.060000  ...     0.000000        0.000000\n",
              "25%         1.000000     0.103900  ...     0.000000        0.000000\n",
              "50%         1.000000     0.122100  ...     0.000000        0.000000\n",
              "75%         1.000000     0.140700  ...     0.000000        0.000000\n",
              "max         1.000000     0.216400  ...     5.000000        1.000000\n",
              "\n",
              "[8 rows x 13 columns]"
            ]
          },
          "metadata": {
            "tags": []
          },
          "execution_count": 7
        }
      ]
    },
    {
      "cell_type": "markdown",
      "metadata": {
        "id": "i4ijR2QxjZRZ",
        "colab_type": "text"
      },
      "source": [
        "# 4. Lakukan pengecekan missing data dan duplicated-row.<br> Jika ada, sebutkan kolom apa yang ada missing data.<br> Apakah ada duplicated-row?"
      ]
    },
    {
      "cell_type": "markdown",
      "metadata": {
        "id": "5SO50xnwjjTg",
        "colab_type": "text"
      },
      "source": [
        "## Checking Missing Values"
      ]
    },
    {
      "cell_type": "code",
      "metadata": {
        "id": "urK1Zf3PjT5f",
        "colab_type": "code",
        "colab": {
          "base_uri": "https://localhost:8080/",
          "height": 467
        },
        "outputId": "41fc274d-eadc-40b0-df5b-589bff93733d"
      },
      "source": [
        "# Checking missing values\n",
        "data_missing = pd.DataFrame(data.isnull().sum()/len(data)).sort_values(by=0, ascending=False)\n",
        "data_missing"
      ],
      "execution_count": 8,
      "outputs": [
        {
          "output_type": "execute_result",
          "data": {
            "text/html": [
              "<div>\n",
              "<style scoped>\n",
              "    .dataframe tbody tr th:only-of-type {\n",
              "        vertical-align: middle;\n",
              "    }\n",
              "\n",
              "    .dataframe tbody tr th {\n",
              "        vertical-align: top;\n",
              "    }\n",
              "\n",
              "    .dataframe thead th {\n",
              "        text-align: right;\n",
              "    }\n",
              "</style>\n",
              "<table border=\"1\" class=\"dataframe\">\n",
              "  <thead>\n",
              "    <tr style=\"text-align: right;\">\n",
              "      <th></th>\n",
              "      <th>0</th>\n",
              "    </tr>\n",
              "  </thead>\n",
              "  <tbody>\n",
              "    <tr>\n",
              "      <th>credit.policy</th>\n",
              "      <td>0.0</td>\n",
              "    </tr>\n",
              "    <tr>\n",
              "      <th>purpose</th>\n",
              "      <td>0.0</td>\n",
              "    </tr>\n",
              "    <tr>\n",
              "      <th>int.rate</th>\n",
              "      <td>0.0</td>\n",
              "    </tr>\n",
              "    <tr>\n",
              "      <th>installment</th>\n",
              "      <td>0.0</td>\n",
              "    </tr>\n",
              "    <tr>\n",
              "      <th>log.annual.inc</th>\n",
              "      <td>0.0</td>\n",
              "    </tr>\n",
              "    <tr>\n",
              "      <th>dti</th>\n",
              "      <td>0.0</td>\n",
              "    </tr>\n",
              "    <tr>\n",
              "      <th>fico</th>\n",
              "      <td>0.0</td>\n",
              "    </tr>\n",
              "    <tr>\n",
              "      <th>days.with.cr.line</th>\n",
              "      <td>0.0</td>\n",
              "    </tr>\n",
              "    <tr>\n",
              "      <th>revol.bal</th>\n",
              "      <td>0.0</td>\n",
              "    </tr>\n",
              "    <tr>\n",
              "      <th>revol.util</th>\n",
              "      <td>0.0</td>\n",
              "    </tr>\n",
              "    <tr>\n",
              "      <th>inq.last.6mths</th>\n",
              "      <td>0.0</td>\n",
              "    </tr>\n",
              "    <tr>\n",
              "      <th>delinq.2yrs</th>\n",
              "      <td>0.0</td>\n",
              "    </tr>\n",
              "    <tr>\n",
              "      <th>pub.rec</th>\n",
              "      <td>0.0</td>\n",
              "    </tr>\n",
              "    <tr>\n",
              "      <th>not.fully.paid</th>\n",
              "      <td>0.0</td>\n",
              "    </tr>\n",
              "  </tbody>\n",
              "</table>\n",
              "</div>"
            ],
            "text/plain": [
              "                     0\n",
              "credit.policy      0.0\n",
              "purpose            0.0\n",
              "int.rate           0.0\n",
              "installment        0.0\n",
              "log.annual.inc     0.0\n",
              "dti                0.0\n",
              "fico               0.0\n",
              "days.with.cr.line  0.0\n",
              "revol.bal          0.0\n",
              "revol.util         0.0\n",
              "inq.last.6mths     0.0\n",
              "delinq.2yrs        0.0\n",
              "pub.rec            0.0\n",
              "not.fully.paid     0.0"
            ]
          },
          "metadata": {
            "tags": []
          },
          "execution_count": 8
        }
      ]
    },
    {
      "cell_type": "markdown",
      "metadata": {
        "id": "IKG1Q0ZRkKyu",
        "colab_type": "text"
      },
      "source": [
        "Dari hasil diatas dapat disimpulkan bahwa tidak terdapat missing values pada dataset 'loan'. Sehingga, pada analisis selanjutnya dapat digunakan dataset ini."
      ]
    },
    {
      "cell_type": "markdown",
      "metadata": {
        "id": "rod_AXEYjvWq",
        "colab_type": "text"
      },
      "source": [
        "## Checking Duplicate Rows"
      ]
    },
    {
      "cell_type": "code",
      "metadata": {
        "id": "HStV9Yc4jyLd",
        "colab_type": "code",
        "colab": {
          "base_uri": "https://localhost:8080/",
          "height": 34
        },
        "outputId": "9b3db2e3-ca40-4f9f-ffba-d688909646a4"
      },
      "source": [
        "# Checking Duplicate Rows\n",
        "(data.duplicated(subset=None, keep='first')).sum()"
      ],
      "execution_count": 9,
      "outputs": [
        {
          "output_type": "execute_result",
          "data": {
            "text/plain": [
              "0"
            ]
          },
          "metadata": {
            "tags": []
          },
          "execution_count": 9
        }
      ]
    },
    {
      "cell_type": "markdown",
      "metadata": {
        "id": "6RI1q26RlhdW",
        "colab_type": "text"
      },
      "source": [
        "Dihasilkan jumlah data yang duplicate pada dataset 'Loan' adalah '0'. Sehingga, dapat disimpulkan bahwa tidak ada data duplicate pada dataset 'Loan'."
      ]
    },
    {
      "cell_type": "markdown",
      "metadata": {
        "id": "SctL6GPBlw39",
        "colab_type": "text"
      },
      "source": [
        "# 5. Lakukan pengecekan variabel target.<br> Ada berapa kategori pada variable target?<br> Berapa proporsinya?<br> Lakukan visualisasi yang menunjukkan PROPORSI kelas target.<br>"
      ]
    },
    {
      "cell_type": "markdown",
      "metadata": {
        "id": "45u3hC7fmA8W",
        "colab_type": "text"
      },
      "source": [
        "## Define target variable"
      ]
    },
    {
      "cell_type": "code",
      "metadata": {
        "id": "LbBlFjoplhKI",
        "colab_type": "code",
        "colab": {
          "base_uri": "https://localhost:8080/",
          "height": 406
        },
        "outputId": "7c4eb4d9-9e7b-484e-fe09-68020d2960ff"
      },
      "source": [
        "target = pd.DataFrame(data['not.fully.paid'])\n",
        "target"
      ],
      "execution_count": 10,
      "outputs": [
        {
          "output_type": "execute_result",
          "data": {
            "text/html": [
              "<div>\n",
              "<style scoped>\n",
              "    .dataframe tbody tr th:only-of-type {\n",
              "        vertical-align: middle;\n",
              "    }\n",
              "\n",
              "    .dataframe tbody tr th {\n",
              "        vertical-align: top;\n",
              "    }\n",
              "\n",
              "    .dataframe thead th {\n",
              "        text-align: right;\n",
              "    }\n",
              "</style>\n",
              "<table border=\"1\" class=\"dataframe\">\n",
              "  <thead>\n",
              "    <tr style=\"text-align: right;\">\n",
              "      <th></th>\n",
              "      <th>not.fully.paid</th>\n",
              "    </tr>\n",
              "  </thead>\n",
              "  <tbody>\n",
              "    <tr>\n",
              "      <th>0</th>\n",
              "      <td>0</td>\n",
              "    </tr>\n",
              "    <tr>\n",
              "      <th>1</th>\n",
              "      <td>0</td>\n",
              "    </tr>\n",
              "    <tr>\n",
              "      <th>2</th>\n",
              "      <td>0</td>\n",
              "    </tr>\n",
              "    <tr>\n",
              "      <th>3</th>\n",
              "      <td>0</td>\n",
              "    </tr>\n",
              "    <tr>\n",
              "      <th>4</th>\n",
              "      <td>0</td>\n",
              "    </tr>\n",
              "    <tr>\n",
              "      <th>...</th>\n",
              "      <td>...</td>\n",
              "    </tr>\n",
              "    <tr>\n",
              "      <th>9573</th>\n",
              "      <td>1</td>\n",
              "    </tr>\n",
              "    <tr>\n",
              "      <th>9574</th>\n",
              "      <td>1</td>\n",
              "    </tr>\n",
              "    <tr>\n",
              "      <th>9575</th>\n",
              "      <td>1</td>\n",
              "    </tr>\n",
              "    <tr>\n",
              "      <th>9576</th>\n",
              "      <td>1</td>\n",
              "    </tr>\n",
              "    <tr>\n",
              "      <th>9577</th>\n",
              "      <td>1</td>\n",
              "    </tr>\n",
              "  </tbody>\n",
              "</table>\n",
              "<p>9578 rows × 1 columns</p>\n",
              "</div>"
            ],
            "text/plain": [
              "      not.fully.paid\n",
              "0                  0\n",
              "1                  0\n",
              "2                  0\n",
              "3                  0\n",
              "4                  0\n",
              "...              ...\n",
              "9573               1\n",
              "9574               1\n",
              "9575               1\n",
              "9576               1\n",
              "9577               1\n",
              "\n",
              "[9578 rows x 1 columns]"
            ]
          },
          "metadata": {
            "tags": []
          },
          "execution_count": 10
        }
      ]
    },
    {
      "cell_type": "markdown",
      "metadata": {
        "id": "C0jdQqphmbJv",
        "colab_type": "text"
      },
      "source": [
        "## Categorical in target variable"
      ]
    },
    {
      "cell_type": "code",
      "metadata": {
        "id": "jkiXL5ARmh96",
        "colab_type": "code",
        "colab": {
          "base_uri": "https://localhost:8080/",
          "height": 34
        },
        "outputId": "2e70cf14-48a8-4e1f-c1fe-58f27efbdee6"
      },
      "source": [
        "a = data['not.fully.paid'].unique()\n",
        "print('Jumlah kategori pada variabel target (not.fully.paid) adalah', len(a),'.')"
      ],
      "execution_count": 11,
      "outputs": [
        {
          "output_type": "stream",
          "text": [
            "Jumlah kategori pada variabel target (not.fully.paid) adalah 2 .\n"
          ],
          "name": "stdout"
        }
      ]
    },
    {
      "cell_type": "markdown",
      "metadata": {
        "id": "2ZGokxEZnCuf",
        "colab_type": "text"
      },
      "source": [
        "## Proporsi of target variable"
      ]
    },
    {
      "cell_type": "code",
      "metadata": {
        "id": "0DpeFDcInNfP",
        "colab_type": "code",
        "colab": {
          "base_uri": "https://localhost:8080/",
          "height": 70
        },
        "outputId": "4aa4750a-28fb-4299-d0bb-2244c4a2824d"
      },
      "source": [
        "data['not.fully.paid'].value_counts()"
      ],
      "execution_count": 12,
      "outputs": [
        {
          "output_type": "execute_result",
          "data": {
            "text/plain": [
              "0    8045\n",
              "1    1533\n",
              "Name: not.fully.paid, dtype: int64"
            ]
          },
          "metadata": {
            "tags": []
          },
          "execution_count": 12
        }
      ]
    },
    {
      "cell_type": "markdown",
      "metadata": {
        "id": "detwQvChLmqh",
        "colab_type": "text"
      },
      "source": [
        "Dari hasil diatas maka ada 8045 data yang memiliki class (0) dan 1533 data memiliki class (1)."
      ]
    },
    {
      "cell_type": "markdown",
      "metadata": {
        "id": "OuV_vp3Kn3dn",
        "colab_type": "text"
      },
      "source": [
        "## Visualization of target variable"
      ]
    },
    {
      "cell_type": "markdown",
      "metadata": {
        "id": "FYkU2GABosui",
        "colab_type": "text"
      },
      "source": [
        "### Pie Chart"
      ]
    },
    {
      "cell_type": "code",
      "metadata": {
        "id": "nIaSM7-boJyL",
        "colab_type": "code",
        "colab": {
          "base_uri": "https://localhost:8080/",
          "height": 247
        },
        "outputId": "87d8324e-f9fa-4139-ea46-1fb1c8a54862"
      },
      "source": [
        "# Proporsi dari variabel target\n",
        "import matplotlib.pyplot as plt\n",
        "\n",
        "plt.pie(data['not.fully.paid'].value_counts(),labels=data['not.fully.paid'].unique(), autopct='%.2f%%')\n",
        "plt.axis('equal')\n",
        "plt.show()"
      ],
      "execution_count": 13,
      "outputs": [
        {
          "output_type": "display_data",
          "data": {
            "image/png": "[encoded data removed]",
            "text/plain": [
              "<Figure size 432x288 with 1 Axes>"
            ]
          },
          "metadata": {
            "tags": []
          }
        }
      ]
    },
    {
      "cell_type": "markdown",
      "metadata": {
        "id": "Cnd2fkLkLCsh",
        "colab_type": "text"
      },
      "source": [
        "Dari hasil pie chart diatas dapat diinterpretasikan bahwa ada 83,99% data yang mempunyai class (0) dan 16,01% data mempunyai class(1)."
      ]
    },
    {
      "cell_type": "markdown",
      "metadata": {
        "id": "pCtsa_dNou-I",
        "colab_type": "text"
      },
      "source": [
        "### Countplot"
      ]
    },
    {
      "cell_type": "code",
      "metadata": {
        "id": "3x2Gy3cnobF1",
        "colab_type": "code",
        "colab": {
          "base_uri": "https://localhost:8080/",
          "height": 296
        },
        "outputId": "02f399c1-10e7-43c3-c4ae-20dd12415228"
      },
      "source": [
        "# Countplot dari variabel target\n",
        "sns.countplot(data['not.fully.paid'])"
      ],
      "execution_count": 14,
      "outputs": [
        {
          "output_type": "execute_result",
          "data": {
            "text/plain": [
              "<matplotlib.axes._subplots.AxesSubplot at 0x7f69698ec4e0>"
            ]
          },
          "metadata": {
            "tags": []
          },
          "execution_count": 14
        },
        {
          "output_type": "display_data",
          "data": {
            "image/png": "[encoded data removed]",
            "text/plain": [
              "<Figure size 432x288 with 1 Axes>"
            ]
          },
          "metadata": {
            "tags": []
          }
        }
      ]
    },
    {
      "cell_type": "markdown",
      "metadata": {
        "id": "3nNg-iO5orZL",
        "colab_type": "text"
      },
      "source": [
        "# 6. Berapa variansi (ragam) nilai installment?"
      ]
    },
    {
      "cell_type": "code",
      "metadata": {
        "id": "B267T8feo595",
        "colab_type": "code",
        "colab": {
          "base_uri": "https://localhost:8080/",
          "height": 34
        },
        "outputId": "109fea7c-f56d-49c1-a785-cea2ce02b60a"
      },
      "source": [
        "a = data['installment'].var()\n",
        "print('Nilai Variansi dari variabel instalment adalah', a )"
      ],
      "execution_count": 15,
      "outputs": [
        {
          "output_type": "stream",
          "text": [
            "Nilai Variansi dari variabel instalment adalah 42878.52390484531\n"
          ],
          "name": "stdout"
        }
      ]
    },
    {
      "cell_type": "markdown",
      "metadata": {
        "id": "HCX2vfLppoBg",
        "colab_type": "text"
      },
      "source": [
        "# 7. Berapa nilai simpangan kuartil pada variable ‘installment’?"
      ]
    },
    {
      "cell_type": "code",
      "metadata": {
        "id": "kbZO98kBpntR",
        "colab_type": "code",
        "colab": {
          "base_uri": "https://localhost:8080/",
          "height": 34
        },
        "outputId": "149b3be2-ae20-424a-f3d1-cfd1677f43f5"
      },
      "source": [
        "a = data['installment'].quantile(q=0.25)\n",
        "b = data['installment'].quantile(q=0.75)\n",
        "print('Nilai Simpangan Kuartil(Q3-Q1) dari variabel instalment adalah', b-a)"
      ],
      "execution_count": 16,
      "outputs": [
        {
          "output_type": "stream",
          "text": [
            "Nilai Simpangan Kuartil(Q3-Q1) dari variabel instalment adalah 268.99249999999995\n"
          ],
          "name": "stdout"
        }
      ]
    },
    {
      "cell_type": "markdown",
      "metadata": {
        "id": "gDlhHNiZq5UE",
        "colab_type": "text"
      },
      "source": [
        "# 8. Berapa nilai installment tertinggi untuk masing-masing tujuan pinjaman (masing-masing kategori pada variable ‘purpose’)"
      ]
    },
    {
      "cell_type": "code",
      "metadata": {
        "id": "j1wH9sMtrCba",
        "colab_type": "code",
        "colab": {
          "base_uri": "https://localhost:8080/",
          "height": 176
        },
        "outputId": "8a8a34d3-c5a8-428e-f715-5438ab9709de"
      },
      "source": [
        "a = data['installment'].groupby(data['purpose']).max()\n",
        "print('Nilai installment tertinggi untuk masing-masing tujuan pinjaman :',a)"
      ],
      "execution_count": 17,
      "outputs": [
        {
          "output_type": "stream",
          "text": [
            "Nilai installment tertinggi untuk masing-masing tujuan pinjaman : purpose\n",
            "all_other             916.95\n",
            "credit_card           922.42\n",
            "debt_consolidation    940.14\n",
            "educational           861.88\n",
            "home_improvement      902.06\n",
            "major_purchase        898.55\n",
            "small_business        926.83\n",
            "Name: installment, dtype: float64\n"
          ],
          "name": "stdout"
        }
      ]
    },
    {
      "cell_type": "markdown",
      "metadata": {
        "id": "bB3Gg-49szma",
        "colab_type": "text"
      },
      "source": [
        "# 9. Variable ‘purpose’ menunjukkan tujuan pengajuan pinjaman. Ada berapa kategori pada variable tersebut?<br> Visualisasikan frekuensi pinjaman berdasarkan tujuannya, diurutkan dari frekuensi tertinggi."
      ]
    },
    {
      "cell_type": "markdown",
      "metadata": {
        "id": "smqNjCoGuCEv",
        "colab_type": "text"
      },
      "source": [
        "## Jumlah Kategori pada variabel purpose"
      ]
    },
    {
      "cell_type": "code",
      "metadata": {
        "id": "6SoI1-LZs8ot",
        "colab_type": "code",
        "colab": {
          "base_uri": "https://localhost:8080/",
          "height": 34
        },
        "outputId": "8e031465-9d8e-4e99-f103-887ca43870be"
      },
      "source": [
        "a = (data['purpose'].unique())\n",
        "print('Jumlah Kategori pada variabel purpose adalah', len(a),'.')"
      ],
      "execution_count": 18,
      "outputs": [
        {
          "output_type": "stream",
          "text": [
            "Jumlah Kategori pada variabel purpose adalah 7 .\n"
          ],
          "name": "stdout"
        }
      ]
    },
    {
      "cell_type": "markdown",
      "metadata": {
        "id": "q6kmV9guuGwt",
        "colab_type": "text"
      },
      "source": [
        "## Visualisasikan frekuensi pinjaman berdasarkan tujuannya, diurutkan dari frekuensi tertinggi."
      ]
    },
    {
      "cell_type": "code",
      "metadata": {
        "id": "B-Nv20zSt4Ap",
        "colab_type": "code",
        "colab": {
          "base_uri": "https://localhost:8080/",
          "height": 442
        },
        "outputId": "a80902eb-ccf7-43ba-f18f-5e02db2729ce"
      },
      "source": [
        "#Distribution of Class Target\n",
        "\n",
        "data['purpose'].value_counts().nlargest(100).plot(kind='bar', figsize=(10,5))\n",
        "plt.ylabel('Count of Purpose')\n",
        "plt.xlabel('Type of Purpose')"
      ],
      "execution_count": 19,
      "outputs": [
        {
          "output_type": "execute_result",
          "data": {
            "text/plain": [
              "Text(0.5, 0, 'Type of Purpose')"
            ]
          },
          "metadata": {
            "tags": []
          },
          "execution_count": 19
        },
        {
          "output_type": "display_data",
          "data": {
            "image/png": "[encoded data removed]",
            "text/plain": [
              "<Figure size 720x360 with 1 Axes>"
            ]
          },
          "metadata": {
            "tags": []
          }
        }
      ]
    },
    {
      "cell_type": "markdown",
      "metadata": {
        "id": "VLlq6C_tMIrC",
        "colab_type": "text"
      },
      "source": [
        "Dari hasil diatas terlihat bahwa jenis tujuan pinjaman yang paling diminati oleh customer adalah debt_consolidation. Dan yang paling sedikit adalah educational."
      ]
    },
    {
      "cell_type": "markdown",
      "metadata": {
        "id": "mkWnCT6hvKVp",
        "colab_type": "text"
      },
      "source": [
        "# 10. Apakah variable ‘fico’ merupakan predictor yang potensial untuk memprediksi target? Jelaskan argumen anda. Hint: Visualisasikan distribusi ‘fico’ terhadap target."
      ]
    },
    {
      "cell_type": "markdown",
      "metadata": {
        "id": "1_NxrN_WwrgG",
        "colab_type": "text"
      },
      "source": [
        "## Correlation Coeficient"
      ]
    },
    {
      "cell_type": "code",
      "metadata": {
        "id": "j2-c-ds-yRjs",
        "colab_type": "code",
        "colab": {
          "base_uri": "https://localhost:8080/",
          "height": 457
        },
        "outputId": "221caad4-5ed5-4a45-db74-b57125272282"
      },
      "source": [
        "data.corr(method = 'spearman')"
      ],
      "execution_count": 20,
      "outputs": [
        {
          "output_type": "execute_result",
          "data": {
            "text/html": [
              "<div>\n",
              "<style scoped>\n",
              "    .dataframe tbody tr th:only-of-type {\n",
              "        vertical-align: middle;\n",
              "    }\n",
              "\n",
              "    .dataframe tbody tr th {\n",
              "        vertical-align: top;\n",
              "    }\n",
              "\n",
              "    .dataframe thead th {\n",
              "        text-align: right;\n",
              "    }\n",
              "</style>\n",
              "<table border=\"1\" class=\"dataframe\">\n",
              "  <thead>\n",
              "    <tr style=\"text-align: right;\">\n",
              "      <th></th>\n",
              "      <th>credit.policy</th>\n",
              "      <th>int.rate</th>\n",
              "      <th>installment</th>\n",
              "      <th>log.annual.inc</th>\n",
              "      <th>dti</th>\n",
              "      <th>fico</th>\n",
              "      <th>days.with.cr.line</th>\n",
              "      <th>revol.bal</th>\n",
              "      <th>revol.util</th>\n",
              "      <th>inq.last.6mths</th>\n",
              "      <th>delinq.2yrs</th>\n",
              "      <th>pub.rec</th>\n",
              "      <th>not.fully.paid</th>\n",
              "    </tr>\n",
              "  </thead>\n",
              "  <tbody>\n",
              "    <tr>\n",
              "      <th>credit.policy</th>\n",
              "      <td>1.000000</td>\n",
              "      <td>-0.287878</td>\n",
              "      <td>0.073698</td>\n",
              "      <td>0.029398</td>\n",
              "      <td>-0.080286</td>\n",
              "      <td>0.352399</td>\n",
              "      <td>0.112885</td>\n",
              "      <td>-0.009222</td>\n",
              "      <td>-0.102636</td>\n",
              "      <td>-0.433860</td>\n",
              "      <td>-0.057772</td>\n",
              "      <td>-0.048692</td>\n",
              "      <td>-0.158119</td>\n",
              "    </tr>\n",
              "    <tr>\n",
              "      <th>int.rate</th>\n",
              "      <td>-0.287878</td>\n",
              "      <td>1.000000</td>\n",
              "      <td>0.242914</td>\n",
              "      <td>0.041648</td>\n",
              "      <td>0.216114</td>\n",
              "      <td>-0.744986</td>\n",
              "      <td>-0.133584</td>\n",
              "      <td>0.148719</td>\n",
              "      <td>0.472965</td>\n",
              "      <td>0.174137</td>\n",
              "      <td>0.172677</td>\n",
              "      <td>0.093887</td>\n",
              "      <td>0.152725</td>\n",
              "    </tr>\n",
              "    <tr>\n",
              "      <th>installment</th>\n",
              "      <td>0.073698</td>\n",
              "      <td>0.242914</td>\n",
              "      <td>1.000000</td>\n",
              "      <td>0.431405</td>\n",
              "      <td>0.062547</td>\n",
              "      <td>0.085257</td>\n",
              "      <td>0.201920</td>\n",
              "      <td>0.351844</td>\n",
              "      <td>0.096013</td>\n",
              "      <td>-0.006740</td>\n",
              "      <td>-0.007541</td>\n",
              "      <td>-0.027854</td>\n",
              "      <td>0.040404</td>\n",
              "    </tr>\n",
              "    <tr>\n",
              "      <th>log.annual.inc</th>\n",
              "      <td>0.029398</td>\n",
              "      <td>0.041648</td>\n",
              "      <td>0.431405</td>\n",
              "      <td>1.000000</td>\n",
              "      <td>-0.059672</td>\n",
              "      <td>0.107878</td>\n",
              "      <td>0.400251</td>\n",
              "      <td>0.415817</td>\n",
              "      <td>0.053172</td>\n",
              "      <td>0.030574</td>\n",
              "      <td>0.029732</td>\n",
              "      <td>0.013282</td>\n",
              "      <td>-0.035534</td>\n",
              "    </tr>\n",
              "    <tr>\n",
              "      <th>dti</th>\n",
              "      <td>-0.080286</td>\n",
              "      <td>0.216114</td>\n",
              "      <td>0.062547</td>\n",
              "      <td>-0.059672</td>\n",
              "      <td>1.000000</td>\n",
              "      <td>-0.214496</td>\n",
              "      <td>0.072858</td>\n",
              "      <td>0.375950</td>\n",
              "      <td>0.333655</td>\n",
              "      <td>0.028044</td>\n",
              "      <td>-0.018420</td>\n",
              "      <td>0.009311</td>\n",
              "      <td>0.035899</td>\n",
              "    </tr>\n",
              "    <tr>\n",
              "      <th>fico</th>\n",
              "      <td>0.352399</td>\n",
              "      <td>-0.744986</td>\n",
              "      <td>0.085257</td>\n",
              "      <td>0.107878</td>\n",
              "      <td>-0.214496</td>\n",
              "      <td>1.000000</td>\n",
              "      <td>0.251729</td>\n",
              "      <td>-0.094562</td>\n",
              "      <td>-0.520085</td>\n",
              "      <td>-0.173743</td>\n",
              "      <td>-0.237059</td>\n",
              "      <td>-0.148294</td>\n",
              "      <td>-0.147920</td>\n",
              "    </tr>\n",
              "    <tr>\n",
              "      <th>days.with.cr.line</th>\n",
              "      <td>0.112885</td>\n",
              "      <td>-0.133584</td>\n",
              "      <td>0.201920</td>\n",
              "      <td>0.400251</td>\n",
              "      <td>0.072858</td>\n",
              "      <td>0.251729</td>\n",
              "      <td>1.000000</td>\n",
              "      <td>0.323954</td>\n",
              "      <td>-0.004041</td>\n",
              "      <td>-0.042324</td>\n",
              "      <td>0.094645</td>\n",
              "      <td>0.101549</td>\n",
              "      <td>-0.025379</td>\n",
              "    </tr>\n",
              "    <tr>\n",
              "      <th>revol.bal</th>\n",
              "      <td>-0.009222</td>\n",
              "      <td>0.148719</td>\n",
              "      <td>0.351844</td>\n",
              "      <td>0.415817</td>\n",
              "      <td>0.375950</td>\n",
              "      <td>-0.094562</td>\n",
              "      <td>0.323954</td>\n",
              "      <td>1.000000</td>\n",
              "      <td>0.514898</td>\n",
              "      <td>-0.023088</td>\n",
              "      <td>-0.053657</td>\n",
              "      <td>-0.025633</td>\n",
              "      <td>0.020440</td>\n",
              "    </tr>\n",
              "    <tr>\n",
              "      <th>revol.util</th>\n",
              "      <td>-0.102636</td>\n",
              "      <td>0.472965</td>\n",
              "      <td>0.096013</td>\n",
              "      <td>0.053172</td>\n",
              "      <td>0.333655</td>\n",
              "      <td>-0.520085</td>\n",
              "      <td>-0.004041</td>\n",
              "      <td>0.514898</td>\n",
              "      <td>1.000000</td>\n",
              "      <td>-0.016175</td>\n",
              "      <td>-0.032189</td>\n",
              "      <td>0.071434</td>\n",
              "      <td>0.081448</td>\n",
              "    </tr>\n",
              "    <tr>\n",
              "      <th>inq.last.6mths</th>\n",
              "      <td>-0.433860</td>\n",
              "      <td>0.174137</td>\n",
              "      <td>-0.006740</td>\n",
              "      <td>0.030574</td>\n",
              "      <td>0.028044</td>\n",
              "      <td>-0.173743</td>\n",
              "      <td>-0.042324</td>\n",
              "      <td>-0.023088</td>\n",
              "      <td>-0.016175</td>\n",
              "      <td>1.000000</td>\n",
              "      <td>0.021115</td>\n",
              "      <td>0.055862</td>\n",
              "      <td>0.131478</td>\n",
              "    </tr>\n",
              "    <tr>\n",
              "      <th>delinq.2yrs</th>\n",
              "      <td>-0.057772</td>\n",
              "      <td>0.172677</td>\n",
              "      <td>-0.007541</td>\n",
              "      <td>0.029732</td>\n",
              "      <td>-0.018420</td>\n",
              "      <td>-0.237059</td>\n",
              "      <td>0.094645</td>\n",
              "      <td>-0.053657</td>\n",
              "      <td>-0.032189</td>\n",
              "      <td>0.021115</td>\n",
              "      <td>1.000000</td>\n",
              "      <td>0.001363</td>\n",
              "      <td>0.014855</td>\n",
              "    </tr>\n",
              "    <tr>\n",
              "      <th>pub.rec</th>\n",
              "      <td>-0.048692</td>\n",
              "      <td>0.093887</td>\n",
              "      <td>-0.027854</td>\n",
              "      <td>0.013282</td>\n",
              "      <td>0.009311</td>\n",
              "      <td>-0.148294</td>\n",
              "      <td>0.101549</td>\n",
              "      <td>-0.025633</td>\n",
              "      <td>0.071434</td>\n",
              "      <td>0.055862</td>\n",
              "      <td>0.001363</td>\n",
              "      <td>1.000000</td>\n",
              "      <td>0.058627</td>\n",
              "    </tr>\n",
              "    <tr>\n",
              "      <th>not.fully.paid</th>\n",
              "      <td>-0.158119</td>\n",
              "      <td>0.152725</td>\n",
              "      <td>0.040404</td>\n",
              "      <td>-0.035534</td>\n",
              "      <td>0.035899</td>\n",
              "      <td>-0.147920</td>\n",
              "      <td>-0.025379</td>\n",
              "      <td>0.020440</td>\n",
              "      <td>0.081448</td>\n",
              "      <td>0.131478</td>\n",
              "      <td>0.014855</td>\n",
              "      <td>0.058627</td>\n",
              "      <td>1.000000</td>\n",
              "    </tr>\n",
              "  </tbody>\n",
              "</table>\n",
              "</div>"
            ],
            "text/plain": [
              "                   credit.policy  int.rate  ...   pub.rec  not.fully.paid\n",
              "credit.policy           1.000000 -0.287878  ... -0.048692       -0.158119\n",
              "int.rate               -0.287878  1.000000  ...  0.093887        0.152725\n",
              "installment             0.073698  0.242914  ... -0.027854        0.040404\n",
              "log.annual.inc          0.029398  0.041648  ...  0.013282       -0.035534\n",
              "dti                    -0.080286  0.216114  ...  0.009311        0.035899\n",
              "fico                    0.352399 -0.744986  ... -0.148294       -0.147920\n",
              "days.with.cr.line       0.112885 -0.133584  ...  0.101549       -0.025379\n",
              "revol.bal              -0.009222  0.148719  ... -0.025633        0.020440\n",
              "revol.util             -0.102636  0.472965  ...  0.071434        0.081448\n",
              "inq.last.6mths         -0.433860  0.174137  ...  0.055862        0.131478\n",
              "delinq.2yrs            -0.057772  0.172677  ...  0.001363        0.014855\n",
              "pub.rec                -0.048692  0.093887  ...  1.000000        0.058627\n",
              "not.fully.paid         -0.158119  0.152725  ...  0.058627        1.000000\n",
              "\n",
              "[13 rows x 13 columns]"
            ]
          },
          "metadata": {
            "tags": []
          },
          "execution_count": 20
        }
      ]
    },
    {
      "cell_type": "markdown",
      "metadata": {
        "id": "NtnSuKyQydCF",
        "colab_type": "text"
      },
      "source": [
        "Dari nilai korelasi dihasilkan bahwa nilai korelasi antara variabel fico dan variabel target 'not.fully.paid' adalah sebesar -0.147920, sehingga dapat disimpulkan bahwa korelasi kedua variabel negatif yang lemah. Artinya variabel 'fico' tidak potensial mempengaruhi hasil prediksi variabel target. "
      ]
    },
    {
      "cell_type": "markdown",
      "metadata": {
        "id": "wG2gyTVHzGE4",
        "colab_type": "text"
      },
      "source": [
        "## Visualisasi distribusi 'Fico' terhadap Target"
      ]
    },
    {
      "cell_type": "code",
      "metadata": {
        "id": "vsgIjK9ywq9j",
        "colab_type": "code",
        "colab": {
          "base_uri": "https://localhost:8080/",
          "height": 621
        },
        "outputId": "946e22c3-5a4d-4e3c-b955-269656f71635"
      },
      "source": [
        "f=plt.figure(figsize=(10,10))\n",
        "\n",
        "#plt.show()\n",
        "f.add_subplot(1,2,1)\n",
        "sns.distplot(data['fico'])\n",
        "plt.title('Histogram of fico')\n",
        "\n",
        "f.add_subplot(1,2,2)\n",
        "sns.boxplot(x=data['not.fully.paid'], y=data['fico'])\n",
        "plt.title('Histogram of Fico')\n",
        "\n",
        "\n",
        "plt.show()\n"
      ],
      "execution_count": 21,
      "outputs": [
        {
          "output_type": "display_data",
          "data": {
            "image/png": "[encoded data removed]",
            "text/plain": [
              "<Figure size 720x720 with 2 Axes>"
            ]
          },
          "metadata": {
            "tags": []
          }
        }
      ]
    },
    {
      "cell_type": "markdown",
      "metadata": {
        "id": "pTKyRkf-0lPg",
        "colab_type": "text"
      },
      "source": [
        "# 11.Apakah variable ‘purpose’ merupakan predictor yang potensial untuk memprediksi target? Jelaskan argumen anda.\n",
        "\n",
        "Hint: Visualisasikan proporsi setiap kategori dalam variable ‘purpose’ terhadap target. Fungsi pd.crosstab akan membantu."
      ]
    },
    {
      "cell_type": "code",
      "metadata": {
        "id": "SX2rNnvO1PYX",
        "colab_type": "code",
        "colab": {
          "base_uri": "https://localhost:8080/",
          "height": 627
        },
        "outputId": "92e33e53-8883-48a6-d860-6a989be7b953"
      },
      "source": [
        "cross = pd.crosstab(data['purpose'], data['not.fully.paid'])\n",
        "plt.figure(figsize=(10,10))\n",
        "sns.heatmap(cross, linewidths=0.05, linecolor='white', annot=True)"
      ],
      "execution_count": 22,
      "outputs": [
        {
          "output_type": "execute_result",
          "data": {
            "text/plain": [
              "<matplotlib.axes._subplots.AxesSubplot at 0x7f69692101d0>"
            ]
          },
          "metadata": {
            "tags": []
          },
          "execution_count": 22
        },
        {
          "output_type": "display_data",
          "data": {
            "image/png": "[encoded data removed]",
            "text/plain": [
              "<Figure size 720x720 with 2 Axes>"
            ]
          },
          "metadata": {
            "tags": []
          }
        }
      ]
    },
    {
      "cell_type": "markdown",
      "metadata": {
        "id": "KWia0AUzF6Um",
        "colab_type": "text"
      },
      "source": [
        "Dari hasil diatas terlihat bahwa jenis tujuan peminjaman memiliki korelasi yang berbeda terhadap variabel target 'not.fully.paid'. Akhirnya disimpulkan bahwa 'purpose' tidak potensial terhadap variabel 'not.fully.paid'."
      ]
    },
    {
      "cell_type": "markdown",
      "metadata": {
        "id": "T0kdFCYf_Vrd",
        "colab_type": "text"
      },
      "source": [
        "# 12. Berapa nilai rata-rata dari int.rate untuk purpose dengan kategori ‘credit_card’?"
      ]
    },
    {
      "cell_type": "code",
      "metadata": {
        "id": "uvh9luRK_VWO",
        "colab_type": "code",
        "colab": {
          "base_uri": "https://localhost:8080/",
          "height": 34
        },
        "outputId": "52b7a34e-821b-4969-9e21-44d166407946"
      },
      "source": [
        "data_credit_card = data[data['purpose']=='credit_card']\n",
        "a = data_credit_card['installment'].mean()\n",
        "print('Rata-rata dari int.rate untuk purposes dengan kategori credit_card adalah', a)"
      ],
      "execution_count": 23,
      "outputs": [
        {
          "output_type": "stream",
          "text": [
            "Rata-rata dari int.rate untuk purposes dengan kategori credit_card adalah 319.5007131537243\n"
          ],
          "name": "stdout"
        }
      ]
    },
    {
      "cell_type": "markdown",
      "metadata": {
        "id": "LIOVAFsZAWoh",
        "colab_type": "text"
      },
      "source": [
        "# 13. Berapa jumlah kasus pinjaman yang nilai installment-nya di atas 200 dan tujuan pinjamannya untuk pendidikan (educational) ?"
      ]
    },
    {
      "cell_type": "code",
      "metadata": {
        "id": "4l9p4IS1AWPh",
        "colab_type": "code",
        "colab": {
          "base_uri": "https://localhost:8080/",
          "height": 34
        },
        "outputId": "79bd9283-2f56-4660-e241-4effac951af5"
      },
      "source": [
        "data_baru = data[(data['installment']>200) & (data['purpose']=='educational')]\n",
        "print('Jumlah kasus pinjaman yang nilai instalmentnya diatas 200 dan tujuan pinjaman untuk pendidikan adalah', len(data_baru),'.')"
      ],
      "execution_count": 24,
      "outputs": [
        {
          "output_type": "stream",
          "text": [
            "Jumlah kasus pinjaman yang nilai instalmentnya diatas 200 dan tujuan pinjaman untuk pendidikan adalah 137 .\n"
          ],
          "name": "stdout"
        }
      ]
    },
    {
      "cell_type": "markdown",
      "metadata": {
        "id": "hCPpUn8OBklT",
        "colab_type": "text"
      },
      "source": [
        "# 14. Tuliskan script untuk memfilter purpose =’credit_card’ dan simpan dalam dataframe yang disebut loans3."
      ]
    },
    {
      "cell_type": "code",
      "metadata": {
        "id": "o-Tux_iHBoAM",
        "colab_type": "code",
        "colab": {
          "base_uri": "https://localhost:8080/",
          "height": 217
        },
        "outputId": "a4a1afef-9fba-4055-c1b7-af2239b15344"
      },
      "source": [
        "loans3 = data[data['purpose']=='credit_card']\n",
        "loans3.head()"
      ],
      "execution_count": 25,
      "outputs": [
        {
          "output_type": "execute_result",
          "data": {
            "text/html": [
              "<div>\n",
              "<style scoped>\n",
              "    .dataframe tbody tr th:only-of-type {\n",
              "        vertical-align: middle;\n",
              "    }\n",
              "\n",
              "    .dataframe tbody tr th {\n",
              "        vertical-align: top;\n",
              "    }\n",
              "\n",
              "    .dataframe thead th {\n",
              "        text-align: right;\n",
              "    }\n",
              "</style>\n",
              "<table border=\"1\" class=\"dataframe\">\n",
              "  <thead>\n",
              "    <tr style=\"text-align: right;\">\n",
              "      <th></th>\n",
              "      <th>credit.policy</th>\n",
              "      <th>purpose</th>\n",
              "      <th>int.rate</th>\n",
              "      <th>installment</th>\n",
              "      <th>log.annual.inc</th>\n",
              "      <th>dti</th>\n",
              "      <th>fico</th>\n",
              "      <th>days.with.cr.line</th>\n",
              "      <th>revol.bal</th>\n",
              "      <th>revol.util</th>\n",
              "      <th>inq.last.6mths</th>\n",
              "      <th>delinq.2yrs</th>\n",
              "      <th>pub.rec</th>\n",
              "      <th>not.fully.paid</th>\n",
              "    </tr>\n",
              "  </thead>\n",
              "  <tbody>\n",
              "    <tr>\n",
              "      <th>1</th>\n",
              "      <td>1</td>\n",
              "      <td>credit_card</td>\n",
              "      <td>0.1071</td>\n",
              "      <td>228.22</td>\n",
              "      <td>11.082143</td>\n",
              "      <td>14.29</td>\n",
              "      <td>707</td>\n",
              "      <td>2760.000000</td>\n",
              "      <td>33623</td>\n",
              "      <td>76.7</td>\n",
              "      <td>0</td>\n",
              "      <td>0</td>\n",
              "      <td>0</td>\n",
              "      <td>0</td>\n",
              "    </tr>\n",
              "    <tr>\n",
              "      <th>4</th>\n",
              "      <td>1</td>\n",
              "      <td>credit_card</td>\n",
              "      <td>0.1426</td>\n",
              "      <td>102.92</td>\n",
              "      <td>11.299732</td>\n",
              "      <td>14.97</td>\n",
              "      <td>667</td>\n",
              "      <td>4066.000000</td>\n",
              "      <td>4740</td>\n",
              "      <td>39.5</td>\n",
              "      <td>0</td>\n",
              "      <td>1</td>\n",
              "      <td>0</td>\n",
              "      <td>0</td>\n",
              "    </tr>\n",
              "    <tr>\n",
              "      <th>5</th>\n",
              "      <td>1</td>\n",
              "      <td>credit_card</td>\n",
              "      <td>0.0788</td>\n",
              "      <td>125.13</td>\n",
              "      <td>11.904968</td>\n",
              "      <td>16.98</td>\n",
              "      <td>727</td>\n",
              "      <td>6120.041667</td>\n",
              "      <td>50807</td>\n",
              "      <td>51.0</td>\n",
              "      <td>0</td>\n",
              "      <td>0</td>\n",
              "      <td>0</td>\n",
              "      <td>0</td>\n",
              "    </tr>\n",
              "    <tr>\n",
              "      <th>17</th>\n",
              "      <td>1</td>\n",
              "      <td>credit_card</td>\n",
              "      <td>0.0894</td>\n",
              "      <td>476.58</td>\n",
              "      <td>11.608236</td>\n",
              "      <td>7.07</td>\n",
              "      <td>797</td>\n",
              "      <td>6510.958333</td>\n",
              "      <td>7586</td>\n",
              "      <td>52.7</td>\n",
              "      <td>1</td>\n",
              "      <td>0</td>\n",
              "      <td>0</td>\n",
              "      <td>0</td>\n",
              "    </tr>\n",
              "    <tr>\n",
              "      <th>22</th>\n",
              "      <td>1</td>\n",
              "      <td>credit_card</td>\n",
              "      <td>0.1355</td>\n",
              "      <td>339.60</td>\n",
              "      <td>11.512925</td>\n",
              "      <td>7.94</td>\n",
              "      <td>662</td>\n",
              "      <td>1939.958333</td>\n",
              "      <td>21162</td>\n",
              "      <td>57.7</td>\n",
              "      <td>0</td>\n",
              "      <td>0</td>\n",
              "      <td>0</td>\n",
              "      <td>0</td>\n",
              "    </tr>\n",
              "  </tbody>\n",
              "</table>\n",
              "</div>"
            ],
            "text/plain": [
              "    credit.policy      purpose  int.rate  ...  delinq.2yrs  pub.rec  not.fully.paid\n",
              "1               1  credit_card    0.1071  ...            0        0               0\n",
              "4               1  credit_card    0.1426  ...            1        0               0\n",
              "5               1  credit_card    0.0788  ...            0        0               0\n",
              "17              1  credit_card    0.0894  ...            0        0               0\n",
              "22              1  credit_card    0.1355  ...            0        0               0\n",
              "\n",
              "[5 rows x 14 columns]"
            ]
          },
          "metadata": {
            "tags": []
          },
          "execution_count": 25
        }
      ]
    },
    {
      "cell_type": "markdown",
      "metadata": {
        "id": "1yOEqyByB2WE",
        "colab_type": "text"
      },
      "source": [
        "# 15. Siapkan data untuk pemodelan.\n",
        "\n",
        "Ubah data kategorik menjadi dummy variabel.\n",
        "\n",
        "Buat dataframe baru bernama ‘final_data’ yang berisi seluruh features (numerik dan kategorik) dengan peubah kategorik yang sudah diubah menjadi dummy variabel.\n",
        "\n",
        " "
      ]
    },
    {
      "cell_type": "markdown",
      "metadata": {
        "id": "nUfwxKw1B_rJ",
        "colab_type": "text"
      },
      "source": [
        "## Dummies Variable"
      ]
    },
    {
      "cell_type": "code",
      "metadata": {
        "id": "-idDkLpdB7NX",
        "colab_type": "code",
        "colab": {
          "base_uri": "https://localhost:8080/",
          "height": 217
        },
        "outputId": "5db93874-634a-46d2-ab1f-0d1bdee5e555"
      },
      "source": [
        "data.head()"
      ],
      "execution_count": 26,
      "outputs": [
        {
          "output_type": "execute_result",
          "data": {
            "text/html": [
              "<div>\n",
              "<style scoped>\n",
              "    .dataframe tbody tr th:only-of-type {\n",
              "        vertical-align: middle;\n",
              "    }\n",
              "\n",
              "    .dataframe tbody tr th {\n",
              "        vertical-align: top;\n",
              "    }\n",
              "\n",
              "    .dataframe thead th {\n",
              "        text-align: right;\n",
              "    }\n",
              "</style>\n",
              "<table border=\"1\" class=\"dataframe\">\n",
              "  <thead>\n",
              "    <tr style=\"text-align: right;\">\n",
              "      <th></th>\n",
              "      <th>credit.policy</th>\n",
              "      <th>purpose</th>\n",
              "      <th>int.rate</th>\n",
              "      <th>installment</th>\n",
              "      <th>log.annual.inc</th>\n",
              "      <th>dti</th>\n",
              "      <th>fico</th>\n",
              "      <th>days.with.cr.line</th>\n",
              "      <th>revol.bal</th>\n",
              "      <th>revol.util</th>\n",
              "      <th>inq.last.6mths</th>\n",
              "      <th>delinq.2yrs</th>\n",
              "      <th>pub.rec</th>\n",
              "      <th>not.fully.paid</th>\n",
              "    </tr>\n",
              "  </thead>\n",
              "  <tbody>\n",
              "    <tr>\n",
              "      <th>0</th>\n",
              "      <td>1</td>\n",
              "      <td>debt_consolidation</td>\n",
              "      <td>0.1189</td>\n",
              "      <td>829.10</td>\n",
              "      <td>11.350407</td>\n",
              "      <td>19.48</td>\n",
              "      <td>737</td>\n",
              "      <td>5639.958333</td>\n",
              "      <td>28854</td>\n",
              "      <td>52.1</td>\n",
              "      <td>0</td>\n",
              "      <td>0</td>\n",
              "      <td>0</td>\n",
              "      <td>0</td>\n",
              "    </tr>\n",
              "    <tr>\n",
              "      <th>1</th>\n",
              "      <td>1</td>\n",
              "      <td>credit_card</td>\n",
              "      <td>0.1071</td>\n",
              "      <td>228.22</td>\n",
              "      <td>11.082143</td>\n",
              "      <td>14.29</td>\n",
              "      <td>707</td>\n",
              "      <td>2760.000000</td>\n",
              "      <td>33623</td>\n",
              "      <td>76.7</td>\n",
              "      <td>0</td>\n",
              "      <td>0</td>\n",
              "      <td>0</td>\n",
              "      <td>0</td>\n",
              "    </tr>\n",
              "    <tr>\n",
              "      <th>2</th>\n",
              "      <td>1</td>\n",
              "      <td>debt_consolidation</td>\n",
              "      <td>0.1357</td>\n",
              "      <td>366.86</td>\n",
              "      <td>10.373491</td>\n",
              "      <td>11.63</td>\n",
              "      <td>682</td>\n",
              "      <td>4710.000000</td>\n",
              "      <td>3511</td>\n",
              "      <td>25.6</td>\n",
              "      <td>1</td>\n",
              "      <td>0</td>\n",
              "      <td>0</td>\n",
              "      <td>0</td>\n",
              "    </tr>\n",
              "    <tr>\n",
              "      <th>3</th>\n",
              "      <td>1</td>\n",
              "      <td>debt_consolidation</td>\n",
              "      <td>0.1008</td>\n",
              "      <td>162.34</td>\n",
              "      <td>11.350407</td>\n",
              "      <td>8.10</td>\n",
              "      <td>712</td>\n",
              "      <td>2699.958333</td>\n",
              "      <td>33667</td>\n",
              "      <td>73.2</td>\n",
              "      <td>1</td>\n",
              "      <td>0</td>\n",
              "      <td>0</td>\n",
              "      <td>0</td>\n",
              "    </tr>\n",
              "    <tr>\n",
              "      <th>4</th>\n",
              "      <td>1</td>\n",
              "      <td>credit_card</td>\n",
              "      <td>0.1426</td>\n",
              "      <td>102.92</td>\n",
              "      <td>11.299732</td>\n",
              "      <td>14.97</td>\n",
              "      <td>667</td>\n",
              "      <td>4066.000000</td>\n",
              "      <td>4740</td>\n",
              "      <td>39.5</td>\n",
              "      <td>0</td>\n",
              "      <td>1</td>\n",
              "      <td>0</td>\n",
              "      <td>0</td>\n",
              "    </tr>\n",
              "  </tbody>\n",
              "</table>\n",
              "</div>"
            ],
            "text/plain": [
              "   credit.policy             purpose  ...  pub.rec  not.fully.paid\n",
              "0              1  debt_consolidation  ...        0               0\n",
              "1              1         credit_card  ...        0               0\n",
              "2              1  debt_consolidation  ...        0               0\n",
              "3              1  debt_consolidation  ...        0               0\n",
              "4              1         credit_card  ...        0               0\n",
              "\n",
              "[5 rows x 14 columns]"
            ]
          },
          "metadata": {
            "tags": []
          },
          "execution_count": 26
        }
      ]
    },
    {
      "cell_type": "code",
      "metadata": {
        "id": "_KlJ_V69CDIo",
        "colab_type": "code",
        "colab": {
          "base_uri": "https://localhost:8080/",
          "height": 217
        },
        "outputId": "1994854c-a5be-4c03-f8fa-dde2f4fd8196"
      },
      "source": [
        "final_data = pd.get_dummies(data, drop_first=True)\n",
        "final_data.head()"
      ],
      "execution_count": 27,
      "outputs": [
        {
          "output_type": "execute_result",
          "data": {
            "text/html": [
              "<div>\n",
              "<style scoped>\n",
              "    .dataframe tbody tr th:only-of-type {\n",
              "        vertical-align: middle;\n",
              "    }\n",
              "\n",
              "    .dataframe tbody tr th {\n",
              "        vertical-align: top;\n",
              "    }\n",
              "\n",
              "    .dataframe thead th {\n",
              "        text-align: right;\n",
              "    }\n",
              "</style>\n",
              "<table border=\"1\" class=\"dataframe\">\n",
              "  <thead>\n",
              "    <tr style=\"text-align: right;\">\n",
              "      <th></th>\n",
              "      <th>credit.policy</th>\n",
              "      <th>int.rate</th>\n",
              "      <th>installment</th>\n",
              "      <th>log.annual.inc</th>\n",
              "      <th>dti</th>\n",
              "      <th>fico</th>\n",
              "      <th>days.with.cr.line</th>\n",
              "      <th>revol.bal</th>\n",
              "      <th>revol.util</th>\n",
              "      <th>inq.last.6mths</th>\n",
              "      <th>delinq.2yrs</th>\n",
              "      <th>pub.rec</th>\n",
              "      <th>not.fully.paid</th>\n",
              "      <th>purpose_credit_card</th>\n",
              "      <th>purpose_debt_consolidation</th>\n",
              "      <th>purpose_educational</th>\n",
              "      <th>purpose_home_improvement</th>\n",
              "      <th>purpose_major_purchase</th>\n",
              "      <th>purpose_small_business</th>\n",
              "    </tr>\n",
              "  </thead>\n",
              "  <tbody>\n",
              "    <tr>\n",
              "      <th>0</th>\n",
              "      <td>1</td>\n",
              "      <td>0.1189</td>\n",
              "      <td>829.10</td>\n",
              "      <td>11.350407</td>\n",
              "      <td>19.48</td>\n",
              "      <td>737</td>\n",
              "      <td>5639.958333</td>\n",
              "      <td>28854</td>\n",
              "      <td>52.1</td>\n",
              "      <td>0</td>\n",
              "      <td>0</td>\n",
              "      <td>0</td>\n",
              "      <td>0</td>\n",
              "      <td>0</td>\n",
              "      <td>1</td>\n",
              "      <td>0</td>\n",
              "      <td>0</td>\n",
              "      <td>0</td>\n",
              "      <td>0</td>\n",
              "    </tr>\n",
              "    <tr>\n",
              "      <th>1</th>\n",
              "      <td>1</td>\n",
              "      <td>0.1071</td>\n",
              "      <td>228.22</td>\n",
              "      <td>11.082143</td>\n",
              "      <td>14.29</td>\n",
              "      <td>707</td>\n",
              "      <td>2760.000000</td>\n",
              "      <td>33623</td>\n",
              "      <td>76.7</td>\n",
              "      <td>0</td>\n",
              "      <td>0</td>\n",
              "      <td>0</td>\n",
              "      <td>0</td>\n",
              "      <td>1</td>\n",
              "      <td>0</td>\n",
              "      <td>0</td>\n",
              "      <td>0</td>\n",
              "      <td>0</td>\n",
              "      <td>0</td>\n",
              "    </tr>\n",
              "    <tr>\n",
              "      <th>2</th>\n",
              "      <td>1</td>\n",
              "      <td>0.1357</td>\n",
              "      <td>366.86</td>\n",
              "      <td>10.373491</td>\n",
              "      <td>11.63</td>\n",
              "      <td>682</td>\n",
              "      <td>4710.000000</td>\n",
              "      <td>3511</td>\n",
              "      <td>25.6</td>\n",
              "      <td>1</td>\n",
              "      <td>0</td>\n",
              "      <td>0</td>\n",
              "      <td>0</td>\n",
              "      <td>0</td>\n",
              "      <td>1</td>\n",
              "      <td>0</td>\n",
              "      <td>0</td>\n",
              "      <td>0</td>\n",
              "      <td>0</td>\n",
              "    </tr>\n",
              "    <tr>\n",
              "      <th>3</th>\n",
              "      <td>1</td>\n",
              "      <td>0.1008</td>\n",
              "      <td>162.34</td>\n",
              "      <td>11.350407</td>\n",
              "      <td>8.10</td>\n",
              "      <td>712</td>\n",
              "      <td>2699.958333</td>\n",
              "      <td>33667</td>\n",
              "      <td>73.2</td>\n",
              "      <td>1</td>\n",
              "      <td>0</td>\n",
              "      <td>0</td>\n",
              "      <td>0</td>\n",
              "      <td>0</td>\n",
              "      <td>1</td>\n",
              "      <td>0</td>\n",
              "      <td>0</td>\n",
              "      <td>0</td>\n",
              "      <td>0</td>\n",
              "    </tr>\n",
              "    <tr>\n",
              "      <th>4</th>\n",
              "      <td>1</td>\n",
              "      <td>0.1426</td>\n",
              "      <td>102.92</td>\n",
              "      <td>11.299732</td>\n",
              "      <td>14.97</td>\n",
              "      <td>667</td>\n",
              "      <td>4066.000000</td>\n",
              "      <td>4740</td>\n",
              "      <td>39.5</td>\n",
              "      <td>0</td>\n",
              "      <td>1</td>\n",
              "      <td>0</td>\n",
              "      <td>0</td>\n",
              "      <td>1</td>\n",
              "      <td>0</td>\n",
              "      <td>0</td>\n",
              "      <td>0</td>\n",
              "      <td>0</td>\n",
              "      <td>0</td>\n",
              "    </tr>\n",
              "  </tbody>\n",
              "</table>\n",
              "</div>"
            ],
            "text/plain": [
              "   credit.policy  int.rate  ...  purpose_major_purchase  purpose_small_business\n",
              "0              1    0.1189  ...                       0                       0\n",
              "1              1    0.1071  ...                       0                       0\n",
              "2              1    0.1357  ...                       0                       0\n",
              "3              1    0.1008  ...                       0                       0\n",
              "4              1    0.1426  ...                       0                       0\n",
              "\n",
              "[5 rows x 19 columns]"
            ]
          },
          "metadata": {
            "tags": []
          },
          "execution_count": 27
        }
      ]
    },
    {
      "cell_type": "markdown",
      "metadata": {
        "id": "-f6YnvEnCe58",
        "colab_type": "text"
      },
      "source": [
        "# 16. Split final_data yang didapatkan dari soal sebelumnya menjadi data train dan data test. Proporsi data test adalah 0.30. Gunakan random_state = 101."
      ]
    },
    {
      "cell_type": "code",
      "metadata": {
        "id": "sk-FAnjmCn0x",
        "colab_type": "code",
        "colab": {}
      },
      "source": [
        "#Split variabel X and Y\n",
        "X = final_data.drop('not.fully.paid',1)\n",
        "y = final_data['not.fully.paid']"
      ],
      "execution_count": 0,
      "outputs": []
    },
    {
      "cell_type": "code",
      "metadata": {
        "id": "7WdTxUqLChug",
        "colab_type": "code",
        "colab": {}
      },
      "source": [
        "from sklearn.model_selection import train_test_split\n",
        "X_train,X_test,y_train,y_test=train_test_split(X, y, test_size = 0.3, random_state = 101)"
      ],
      "execution_count": 0,
      "outputs": []
    },
    {
      "cell_type": "code",
      "metadata": {
        "id": "BqB3rz-BDB0E",
        "colab_type": "code",
        "colab": {
          "base_uri": "https://localhost:8080/",
          "height": 52
        },
        "outputId": "ea2c4f58-bcc2-4c05-8c24-6734031e85c9"
      },
      "source": [
        "print(X_train.shape)\n",
        "print(X_test.shape)"
      ],
      "execution_count": 30,
      "outputs": [
        {
          "output_type": "stream",
          "text": [
            "(6704, 18)\n",
            "(2874, 18)\n"
          ],
          "name": "stdout"
        }
      ]
    },
    {
      "cell_type": "markdown",
      "metadata": {
        "id": "vjws7rv7DKin",
        "colab_type": "text"
      },
      "source": [
        "# 17. Buatlah sebuah instance DecisionTreeClassifier yang disebut ‘dtree’ dan buatlah model dari training data menggunakan dtree tersebut."
      ]
    },
    {
      "cell_type": "code",
      "metadata": {
        "id": "e88FXBz6DN2E",
        "colab_type": "code",
        "colab": {
          "base_uri": "https://localhost:8080/",
          "height": 123
        },
        "outputId": "061a1b37-6b57-4fd9-dafe-40476f9e3c08"
      },
      "source": [
        "dtree = DecisionTreeClassifier()\n",
        "dtree.fit(X_train,y_train)"
      ],
      "execution_count": 31,
      "outputs": [
        {
          "output_type": "execute_result",
          "data": {
            "text/plain": [
              "DecisionTreeClassifier(class_weight=None, criterion='gini', max_depth=None,\n",
              "                       max_features=None, max_leaf_nodes=None,\n",
              "                       min_impurity_decrease=0.0, min_impurity_split=None,\n",
              "                       min_samples_leaf=1, min_samples_split=2,\n",
              "                       min_weight_fraction_leaf=0.0, presort=False,\n",
              "                       random_state=None, splitter='best')"
            ]
          },
          "metadata": {
            "tags": []
          },
          "execution_count": 31
        }
      ]
    },
    {
      "cell_type": "markdown",
      "metadata": {
        "id": "zjh8AOfJD-Pk",
        "colab_type": "text"
      },
      "source": [
        "# 18. Buatlah script untuk meprediksi target pada data test dengan menggunakan model yang telah dibuat sebelumnya, simpan dalam variable ‘predictions’"
      ]
    },
    {
      "cell_type": "code",
      "metadata": {
        "id": "47SI4nmYECGt",
        "colab_type": "code",
        "colab": {}
      },
      "source": [
        " predictions=dtree.predict(X_test)"
      ],
      "execution_count": 0,
      "outputs": []
    },
    {
      "cell_type": "markdown",
      "metadata": {
        "id": "c6Sc7_c3ET5y",
        "colab_type": "text"
      },
      "source": [
        "# 19. Tampilkan confusion matrix antara hasil prediksi dan target data test."
      ]
    },
    {
      "cell_type": "code",
      "metadata": {
        "id": "IKId8v6FEXXP",
        "colab_type": "code",
        "colab": {
          "base_uri": "https://localhost:8080/",
          "height": 212
        },
        "outputId": "21953ad6-2483-4a56-febc-a15c842cc7a3"
      },
      "source": [
        "# Confusion Matrix dan Classification report\n",
        "from sklearn.metrics import confusion_matrix\n",
        "from sklearn.metrics import classification_report\n",
        "\n",
        "print (confusion_matrix(y_test, predictions))\n",
        "print (classification_report(y_test, predictions))\n"
      ],
      "execution_count": 33,
      "outputs": [
        {
          "output_type": "stream",
          "text": [
            "[[1992  439]\n",
            " [ 341  102]]\n",
            "              precision    recall  f1-score   support\n",
            "\n",
            "           0       0.85      0.82      0.84      2431\n",
            "           1       0.19      0.23      0.21       443\n",
            "\n",
            "    accuracy                           0.73      2874\n",
            "   macro avg       0.52      0.52      0.52      2874\n",
            "weighted avg       0.75      0.73      0.74      2874\n",
            "\n"
          ],
          "name": "stdout"
        }
      ]
    },
    {
      "cell_type": "markdown",
      "metadata": {
        "id": "uK02VKlVEltr",
        "colab_type": "text"
      },
      "source": [
        "# 20. Tampilkan ukuran kebaikan model, setidaknya nilai Akurasi, Sensitivity dan Specificity."
      ]
    },
    {
      "cell_type": "code",
      "metadata": {
        "id": "RIYHEafwElas",
        "colab_type": "code",
        "colab": {
          "base_uri": "https://localhost:8080/",
          "height": 123
        },
        "outputId": "be8dd7f8-72c8-4c7a-c8a1-e0a84fe3c930"
      },
      "source": [
        "#Confusion matrix, Accuracy, sensitivity and specificity\n",
        "from sklearn.metrics import confusion_matrix\n",
        "\n",
        "cm1 = confusion_matrix(y_test,predictions)\n",
        "print('Confusion Matrix : \\n', cm1)\n",
        "\n",
        "total1=sum(sum(cm1))\n",
        "#####from confusion matrix calculate accuracy\n",
        "accuracy1=(cm1[0,0]+cm1[1,1])/total1\n",
        "print ('Accuracy : ', accuracy1)\n",
        "\n",
        "sensitivity1 = cm1[0,0]/(cm1[0,0]+cm1[0,1])\n",
        "print('Sensitivity : ', sensitivity1 )\n",
        "\n",
        "specificity1 = cm1[1,1]/(cm1[1,0]+cm1[1,1])\n",
        "print('Specificity : ', specificity1)"
      ],
      "execution_count": 34,
      "outputs": [
        {
          "output_type": "stream",
          "text": [
            "Confusion Matrix : \n",
            " [[1992  439]\n",
            " [ 341  102]]\n",
            "Accuracy :  0.7286012526096033\n",
            "Sensitivity :  0.8194158782394076\n",
            "Specificity :  0.23024830699774265\n"
          ],
          "name": "stdout"
        }
      ]
    },
    {
      "cell_type": "markdown",
      "metadata": {
        "id": "55bGcv48HamU",
        "colab_type": "text"
      },
      "source": [
        "- Interpretasi Confusion Matrix:\n",
        "> - 1992 artinya Ada 1992 data kelas positif yang diprediksi benar kelas positif. Kasus dimana orang diprediksi (Positif) fully.paid, memang benar(True) fuly.paid.\n",
        "> - 102 artinya Ada 102 data kelas negatif yang diprediksi benar kelas negatif. Kasus dimana orang diprediksi (Positif) not.fully.paid, memang benar(True) not.fuly.paid.\n",
        "> - 439 artinya Ada 439 data kelas positif yang diprediksi kelas negatif. Kasus dimana orang yang diprediksi positif fully.paid, ternyata not.fully.paid, Prediksinya salah (False).\n",
        "> - 341 artinya Ada 341 data kelas negatif yang diprediksi kelas positif. Kasus dimana orang yang diprediksi not.fully.paid (Negatif), tetapi ternyata sebenarnya(TRUE) fully.paid.\n",
        "- Accuracy = rasio prediksi Benar (positif dan negatif) dengan keseluruhan data. Sehingga, nilai accuracy = 0.73 artinya persentase model memprediksi secara benar baik kelas positif dan negatif sebesar 73%.\n",
        "- Sensitifitas = rasio prediksi benar positif dibandingkan dengan keseluruhan data yang benar positif. Sehingga, nilai sensitivitas 0.81 artinya persentase model memprediksi benar kelas positif dari total kelas positif adalah sebesar 81%.\n",
        "- Specitifitas = kebenaran memprediksi negatif dibandingkan dengan keseluruhan data negatif. Sehingga, nilai specitifitas 0.24% artinya persentase model memprediksi kelas negatif dari total kelas negatif adalah 24%.\n"
      ]
    }
  ]
}